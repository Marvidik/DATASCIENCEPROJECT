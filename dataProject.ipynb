{
 "cells": [
  {
   "cell_type": "code",
   "execution_count": 1,
   "metadata": {},
   "outputs": [],
   "source": [
    "import numpy as np\n",
    "import pandas as pd\n",
    "import matplotlib.pyplot as plt\n",
    "import seaborn as sns\n",
    "%matplotlib inline"
   ]
  },
  {
   "cell_type": "code",
   "execution_count": null,
   "metadata": {},
   "outputs": [],
   "source": [
    "url = 'https://raw.githubusercontent.com/datasciencedojo/datasets/master/titanic.csv'\n",
    "titanic_df = pd.read_csv(url)"
   ]
  },
  {
   "cell_type": "code",
   "execution_count": null,
   "metadata": {},
   "outputs": [],
   "source": [
    "titanic_df.head()\n",
    "titanic_df.info()\n",
    "titanic_df.isnull().sum()\n",
    "titanic_df['Age'].fillna(titanic_df['Age'].median(), inplace=True)\n",
    "titanic_df.dropna(subset=['Cabin', 'Embarked'], inplace=True)\n",
    "titanic_df['Sex'] = pd.Categorical(titanic_df['Sex'])\n",
    "titanic_df['Embarked'] = pd.Categorical(titanic_df['Embarked'])\n",
    "titanic_df['Family_Size'] = titanic_df['SibSp'] + titanic_df['Parch']\n",
    "sns.countplot(x='Survived', data=titanic_df)"
   ]
  },
  {
   "cell_type": "code",
   "execution_count": null,
   "metadata": {},
   "outputs": [],
   "source": [
    "sns.histplot(x='Age', data=titanic_df)\n",
    "\n",
    "sns.countplot(x='Survived', hue='Sex', data=titanic_df)\n",
    "sns.countplot(x='Survived', hue='Pclass', data=titanic_df)\n",
    "sns.countplot(x='Survived', hue='Embarked', data=titanic_df)\n",
    "sns.countplot(x='Survived', hue='Family_Size', data=titanic_df)"
   ]
  },
  {
   "cell_type": "code",
   "execution_count": null,
   "metadata": {},
   "outputs": [],
   "source": [
    "titanic_df.describe()"
   ]
  }
 ],
 "metadata": {
  "kernelspec": {
   "display_name": "Python 3",
   "language": "python",
   "name": "python3"
  },
  "language_info": {
   "codemirror_mode": {
    "name": "ipython",
    "version": 3
   },
   "file_extension": ".py",
   "mimetype": "text/x-python",
   "name": "python",
   "nbconvert_exporter": "python",
   "pygments_lexer": "ipython3",
   "version": "3.9.2"
  },
  "orig_nbformat": 4,
  "vscode": {
   "interpreter": {
    "hash": "37099a13c9ce34151f8fee2d1fdeefc6cba20978ec67cc1b0138500539df578a"
   }
  }
 },
 "nbformat": 4,
 "nbformat_minor": 2
}
